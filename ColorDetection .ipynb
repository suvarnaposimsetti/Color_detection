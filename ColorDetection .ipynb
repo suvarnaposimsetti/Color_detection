pip install opencv-python numpy
