{
 "cells": [
  {
   "cell_type": "code",
   "execution_count": 1,
   "id": "46a1a18c",
   "metadata": {},
   "outputs": [
    {
     "name": "stdout",
     "output_type": "stream",
     "text": [
      "Requirement already satisfied: opencv-python in /home/rguktongole/.local/lib/python3.8/site-packages (4.8.1.78)\n",
      "Requirement already satisfied: numpy in /home/rguktongole/.local/lib/python3.8/site-packages (1.24.4)\n",
      "Note: you may need to restart the kernel to use updated packages.\n"
     ]
    }
   ],
   "source": [
    "pip install opencv-python numpy\n"
   ]
  },
  {
   "cell_type": "code",
   "execution_count": null,
   "id": "60a45006",
   "metadata": {
    "scrolled": false
   },
   "outputs": [],
   "source": [
    "import cv2\n",
    "import numpy as np\n",
    "import pandas as pd\n",
    "import argparse\n",
    "\n",
    "#Creating argument parser to take image path from command line\n",
    "#ap = argparse.ArgumentParser()\n",
    "#ap.add_argument('-i', '--image', required=True, help=\"Image Path\")\n",
    "#args = vars(ap.parse_args())\n",
    "#img_path = args['image']\n",
    "\n",
    "#Reading the image with opencv\n",
    "img_path = \"picturecolor.jpg\"\n",
    "img = cv2.imread(\"picturecolor.jpg\")\n",
    "\n",
    "#declaring global variables (are used later on)\n",
    "clicked = False\n",
    "r = g = b = xpos = ypos = 0\n",
    "\n",
    "#Reading csv file with pandas and giving names to each column\n",
    "index=[\"color\",\"color_name\",\"hex\",\"R\",\"G\",\"B\"]\n",
    "csv = pd.read_csv('colordetect.csv', names=index, header=None)\n",
    "\n",
    "#function to calculate minimum distance from all colors and get the most matching color\n",
    "def getColorName(R,G,B):\n",
    "    minimum = 10000\n",
    "    for i in range(len(csv)):\n",
    "        d = abs(R- int(csv.loc[i,\"R\"])) + abs(G- int(csv.loc[i,\"G\"]))+ abs(B- int(csv.loc[i,\"B\"]))\n",
    "        if(d<=minimum):\n",
    "            minimum = d\n",
    "            cname = csv.loc[i,\"color_name\"]\n",
    "    return cname\n",
    "\n",
    "#function to get x,y coordinates of mouse double click\n",
    "def draw_function(event, x,y,flags,param):\n",
    "    if event == cv2.EVENT_LBUTTONDBLCLK:\n",
    "        global b,g,r,xpos,ypos, clicked\n",
    "        clicked = True\n",
    "        xpos = x\n",
    "        ypos = y\n",
    "        b,g,r = img[y,x]\n",
    "        b = int(b)\n",
    "        g = int(g)\n",
    "        r = int(r)\n",
    "       \n",
    "cv2.namedWindow('image')\n",
    "cv2.setMouseCallback('image',draw_function)\n",
    "\n",
    "while(1):\n",
    "\n",
    "    cv2.imshow(\"image\",img)\n",
    "    if (clicked):\n",
    "   \n",
    "        #cv2.rectangle(image, startpoint, endpoint, color, thickness)-1 fills entire rectangle \n",
    "        cv2.rectangle(img,(20,20), (750,60), (b,g,r), -1)\n",
    "\n",
    "        #Creating text string to display( Color name and RGB values )\n",
    "        text = getColorName(r,g,b) + ' R='+ str(r) +  ' G='+ str(g) +  ' B='+ str(b)\n",
    "        \n",
    "        #cv2.putText(img,text,start,font(0-7),fontScale,color,thickness,lineType )\n",
    "        cv2.putText(img, text,(50,50),2,0.8,(255,255,255),2,cv2.LINE_AA)\n",
    "\n",
    "        #For very light colours we will display text in black colour\n",
    "        if(r+g+b>=600):\n",
    "            cv2.putText(img, text,(50,50),2,0.8,(0,0,0),2,cv2.LINE_AA)\n",
    "            \n",
    "        clicked=False\n",
    "\n",
    "    #Break the loop when user hits 'esc' key    \n",
    "    if cv2.waitKey(20) & 0xFF ==27:\n",
    "        break\n",
    "    \n",
    "cv2.destroyAllWindows()"
   ]
  },
  {
   "cell_type": "code",
   "execution_count": 4,
   "id": "bffc46ca",
   "metadata": {},
   "outputs": [
    {
     "name": "stdout",
     "output_type": "stream",
     "text": [
      "Collecting pandas\n",
      "  Downloading pandas-2.0.3-cp38-cp38-manylinux_2_17_x86_64.manylinux2014_x86_64.whl (12.4 MB)\n",
      "\u001b[K     |████████████████████████████████| 12.4 MB 954 kB/s eta 0:00:01\n",
      "\u001b[?25hCollecting pytz>=2020.1\n",
      "  Downloading pytz-2024.1-py2.py3-none-any.whl (505 kB)\n",
      "\u001b[K     |████████████████████████████████| 505 kB 497 kB/s eta 0:00:01\n",
      "\u001b[?25hRequirement already satisfied: python-dateutil>=2.8.2 in /home/rguktongole/.local/lib/python3.8/site-packages (from pandas) (2.8.2)\n",
      "Collecting tzdata>=2022.1\n",
      "  Downloading tzdata-2024.1-py2.py3-none-any.whl (345 kB)\n",
      "\u001b[K     |████████████████████████████████| 345 kB 844 kB/s eta 0:00:01\n",
      "\u001b[?25hRequirement already satisfied: numpy>=1.20.3; python_version < \"3.10\" in /home/rguktongole/.local/lib/python3.8/site-packages (from pandas) (1.24.4)\n",
      "Requirement already satisfied: six>=1.5 in /usr/lib/python3/dist-packages (from python-dateutil>=2.8.2->pandas) (1.14.0)\n",
      "Installing collected packages: pytz, tzdata, pandas\n",
      "Successfully installed pandas-2.0.3 pytz-2024.1 tzdata-2024.1\n",
      "Note: you may need to restart the kernel to use updated packages.\n"
     ]
    }
   ],
   "source": [
    "pip install pandas\n"
   ]
  },
  {
   "cell_type": "code",
   "execution_count": null,
   "id": "f8037486",
   "metadata": {},
   "outputs": [],
   "source": []
  },
  {
   "cell_type": "code",
   "execution_count": null,
   "id": "5f524977",
   "metadata": {},
   "outputs": [],
   "source": []
  }
 ],
 "metadata": {
  "kernelspec": {
   "display_name": "Python 3 (ipykernel)",
   "language": "python",
   "name": "python3"
  },
  "language_info": {
   "codemirror_mode": {
    "name": "ipython",
    "version": 3
   },
   "file_extension": ".py",
   "mimetype": "text/x-python",
   "name": "python",
   "nbconvert_exporter": "python",
   "pygments_lexer": "ipython3",
   "version": "3.8.10"
  }
 },
 "nbformat": 4,
 "nbformat_minor": 5
}
